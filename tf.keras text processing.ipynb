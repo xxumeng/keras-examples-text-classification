{
 "cells": [
  {
   "cell_type": "code",
   "execution_count": 1,
   "metadata": {},
   "outputs": [
    {
     "name": "stderr",
     "output_type": "stream",
     "text": [
      "D:\\Applications\\anaconda\\lib\\site-packages\\h5py\\__init__.py:36: FutureWarning: Conversion of the second argument of issubdtype from `float` to `np.floating` is deprecated. In future, it will be treated as `np.float64 == np.dtype(float).type`.\n",
      "  from ._conv import register_converters as _register_converters\n"
     ]
    }
   ],
   "source": [
    "from tensorflow import keras\n",
    "from tensorflow.keras.preprocessing.text import Tokenizer\n",
    "import pandas as pd"
   ]
  },
  {
   "cell_type": "markdown",
   "metadata": {},
   "source": [
    "# 数据预处理"
   ]
  },
  {
   "cell_type": "markdown",
   "metadata": {},
   "source": [
    "## panda数据读取"
   ]
  },
  {
   "cell_type": "code",
   "execution_count": 2,
   "metadata": {},
   "outputs": [],
   "source": [
    "train_data=pd.read_csv(\"D:\\\\jupterWork\\\\encoder\\\\ag_news_csv\\\\train.csv\",header=None,usecols=[1,2])\n",
    "train_labels=pd.read_csv(\"D:\\\\jupterWork\\\\encoder\\\\ag_news_csv\\\\train.csv\",header=None,usecols=[0])\n",
    "test_data=pd.read_csv(\"D:\\\\jupterWork\\\\encoder\\\\ag_news_csv\\\\test.csv\",header=None,usecols=[1,2])\n",
    "test_labels=pd.read_csv(\"D:\\\\jupterWork\\\\encoder\\\\ag_news_csv\\\\test.csv\",header=None,usecols=[0])"
   ]
  },
  {
   "cell_type": "markdown",
   "metadata": {},
   "source": [
    "## titlte+description"
   ]
  },
  {
   "cell_type": "code",
   "execution_count": 3,
   "metadata": {},
   "outputs": [],
   "source": [
    "#array\n",
    "train_data=train_data.values\n",
    "y_train=train_labels.values\n",
    "test_data=test_data.values\n",
    "y_test=test_labels.values\n",
    "\n",
    "train_messages = [None]*120000\n",
    "test_messages = [None]*7600\n",
    "\n",
    "for index, data in enumerate(train_data):\n",
    "    train_messages[index] = data[0]+'.'+data[1]\n",
    "\n",
    "for index, data in enumerate(test_data):\n",
    "    test_messages[index] = data[0]+'.'+data[1]"
   ]
  },
  {
   "cell_type": "markdown",
   "metadata": {},
   "source": [
    "## tokenizer词典 "
   ]
  },
  {
   "cell_type": "code",
   "execution_count": 4,
   "metadata": {},
   "outputs": [],
   "source": [
    "tokenizer=keras.preprocessing.text.Tokenizer(num_words=10000, \n",
    "                                   filters='!\"#$%&()*+,-./:;<=>?@[\\]^_`{|}~', \n",
    "                                   lower=True, split=' ', \n",
    "                                   char_level=False, \n",
    "                                   oov_token=None)\n",
    "tokenizer.fit_on_texts(train_messages)#词典"
   ]
  },
  {
   "cell_type": "code",
   "execution_count": 5,
   "metadata": {},
   "outputs": [],
   "source": [
    "#print( 'word_counts:',tokenizer.word_counts) #单词出现次数\n",
    "#print( '\\nword_index:',tokenizer.word_index) #单词出现的位置\n",
    "#print( '\\nword_docs:',tokenizer.word_docs) #单词出现在的文档（行）数\n",
    "#print( '\\nindex_docs',tokenizer.index_docs) #word_index：word_docs"
   ]
  },
  {
   "cell_type": "code",
   "execution_count": 6,
   "metadata": {},
   "outputs": [
    {
     "name": "stdout",
     "output_type": "stream",
     "text": [
      "174\n",
      "9999\n"
     ]
    }
   ],
   "source": [
    "train_sequences = tokenizer.texts_to_sequences(train_messages)\n",
    "test_sequences = tokenizer.texts_to_sequences(test_messages)\n",
    "maxlen=0\n",
    "max_index=0\n",
    "for i, seq in enumerate(train_sequences):\n",
    "    if len(seq)>maxlen:\n",
    "        maxlen=len(seq)\n",
    "    if max(seq)>max_index:\n",
    "        max_index=max(seq)\n",
    "print(maxlen)\n",
    "print(max_index)"
   ]
  },
  {
   "cell_type": "code",
   "execution_count": 7,
   "metadata": {},
   "outputs": [
    {
     "data": {
      "text/plain": [
       "array([[   0,    0,    0, ..., 4049,  797,  332],\n",
       "       [   0,    0,    0, ...,    4,    1,  128],\n",
       "       [   0,    0,    0, ...,    4,    1, 1214],\n",
       "       ...,\n",
       "       [   0,    0,    0, ...,  346,   65,  123],\n",
       "       [   0,    0,    0, ...,   42,   16, 1666],\n",
       "       [   0,    0,    0, ..., 2095, 3435,   72]])"
      ]
     },
     "execution_count": 7,
     "metadata": {},
     "output_type": "execute_result"
    }
   ],
   "source": [
    "train_x = keras.preprocessing.sequence.pad_sequences(train_sequences, maxlen)\n",
    "test_x = keras.preprocessing.sequence.pad_sequences(test_sequences, maxlen)\n",
    "y_train_labels = keras.utils.to_categorical(y_train, num_classes=5)\n",
    "y_test_labels = keras.utils.to_categorical(y_test, num_classes=5)\n",
    "train_x\n",
    "#print( tokenizer.texts_to_matrix(test_messages))  # 矩阵化=one_hot"
   ]
  },
  {
   "cell_type": "markdown",
   "metadata": {},
   "source": [
    "# basic cnn model"
   ]
  },
  {
   "cell_type": "code",
   "execution_count": 8,
   "metadata": {},
   "outputs": [],
   "source": [
    "def base_cnn_model(y,max_features,embedding_dims,filters):\n",
    "    kernel_size = 3\n",
    "    model = keras.Sequential()\n",
    "    model.add(keras.layers.Embedding(max_features, embedding_dims)) # 使用Embedding层将每个词编码转换为词向量(10000,181,128)\n",
    "    model.add(keras.layers.Conv1D(filters,\n",
    "                     kernel_size,\n",
    "                     padding='valid',\n",
    "                     activation='relu',\n",
    "                     strides=1))\n",
    "    # 池化\n",
    "    model.add(keras.layers.GlobalMaxPooling1D())\n",
    "    model.add(keras.layers.Dense(y.shape[1], activation='softmax')) #第一个参数units: 全连接层输出的维度，即下一层神经元的个数。\n",
    "    model.compile(loss='categorical_crossentropy',\n",
    "                  optimizer='adam',\n",
    "                  metrics=['accuracy'])\n",
    "\n",
    "    model.summary()\n",
    "\n",
    "    return model"
   ]
  },
  {
   "cell_type": "code",
   "execution_count": 9,
   "metadata": {},
   "outputs": [
    {
     "name": "stdout",
     "output_type": "stream",
     "text": [
      "_________________________________________________________________\n",
      "Layer (type)                 Output Shape              Param #   \n",
      "=================================================================\n",
      "embedding (Embedding)        (None, None, 128)         1280000   \n",
      "_________________________________________________________________\n",
      "conv1d (Conv1D)              (None, None, 32)          12320     \n",
      "_________________________________________________________________\n",
      "global_max_pooling1d (Global (None, 32)                0         \n",
      "_________________________________________________________________\n",
      "dense (Dense)                (None, 5)                 165       \n",
      "=================================================================\n",
      "Total params: 1,292,485\n",
      "Trainable params: 1,292,485\n",
      "Non-trainable params: 0\n",
      "_________________________________________________________________\n"
     ]
    }
   ],
   "source": [
    "max_features=10000\n",
    "#max_features=70344\n",
    "embedding_dims=128\n",
    "filters=32\n",
    "#y_train=np_utils.to_categorical(4)\n",
    "model=base_cnn_model(y_train_labels,max_features,embedding_dims,filters)"
   ]
  },
  {
   "cell_type": "code",
   "execution_count": 10,
   "metadata": {},
   "outputs": [
    {
     "name": "stderr",
     "output_type": "stream",
     "text": [
      "D:\\Applications\\anaconda\\lib\\site-packages\\tensorflow\\python\\ops\\gradients_impl.py:108: UserWarning: Converting sparse IndexedSlices to a dense Tensor of unknown shape. This may consume a large amount of memory.\n",
      "  \"Converting sparse IndexedSlices to a dense Tensor of unknown shape. \"\n"
     ]
    },
    {
     "name": "stdout",
     "output_type": "stream",
     "text": [
      "Train on 96000 samples, validate on 24000 samples\n",
      "Epoch 1/3\n",
      "96000/96000 [==============================] - 234s 2ms/step - loss: 0.3950 - acc: 0.8736 - val_loss: 0.2859 - val_acc: 0.9018\n",
      "Epoch 2/3\n",
      "96000/96000 [==============================] - 223s 2ms/step - loss: 0.1953 - acc: 0.9341 - val_loss: 0.2863 - val_acc: 0.9019\n",
      "Epoch 3/3\n",
      "96000/96000 [==============================] - 231s 2ms/step - loss: 0.1273 - acc: 0.9578 - val_loss: 0.3065 - val_acc: 0.8975\n"
     ]
    }
   ],
   "source": [
    "history = model.fit(train_x,\n",
    "                    y_train_labels,\n",
    "                    validation_split=0.2,\n",
    "                    batch_size=64,\n",
    "                    epochs=3,\n",
    "                    verbose=1,\n",
    "                    shuffle=True)"
   ]
  },
  {
   "cell_type": "code",
   "execution_count": 11,
   "metadata": {},
   "outputs": [
    {
     "name": "stdout",
     "output_type": "stream",
     "text": [
      "7600/7600 [==============================] - 5s 595us/step\n",
      "[0.2942187399299521, 0.9025]\n"
     ]
    }
   ],
   "source": [
    "results = model.evaluate(test_x, y_test_labels)\n",
    "print(results)"
   ]
  },
  {
   "cell_type": "code",
   "execution_count": null,
   "metadata": {},
   "outputs": [],
   "source": []
  }
 ],
 "metadata": {
  "kernelspec": {
   "display_name": "Python 3",
   "language": "python",
   "name": "python3"
  },
  "language_info": {
   "codemirror_mode": {
    "name": "ipython",
    "version": 3
   },
   "file_extension": ".py",
   "mimetype": "text/x-python",
   "name": "python",
   "nbconvert_exporter": "python",
   "pygments_lexer": "ipython3",
   "version": "3.6.5"
  }
 },
 "nbformat": 4,
 "nbformat_minor": 2
}

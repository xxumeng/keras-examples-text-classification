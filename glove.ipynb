{
 "cells": [
  {
   "cell_type": "code",
   "execution_count": 1,
   "metadata": {},
   "outputs": [],
   "source": [
    "#GPU版本 指定在CPU上运行\n",
    "import os\n",
    "os.environ[\"CUDA_DEVICE_ORDER\"] = \"PCI_BUS_ID\"\n",
    "os.environ[\"CUDA_VISIBLE_DEVICES\"] = \"-1\""
   ]
  },
  {
   "cell_type": "code",
   "execution_count": 2,
   "metadata": {},
   "outputs": [
    {
     "name": "stderr",
     "output_type": "stream",
     "text": [
      "/usr/local/lib/python2.7/dist-packages/h5py/__init__.py:36: FutureWarning: Conversion of the second argument of issubdtype from `float` to `np.floating` is deprecated. In future, it will be treated as `np.float64 == np.dtype(float).type`.\n",
      "  from ._conv import register_converters as _register_converters\n",
      "Using TensorFlow backend.\n"
     ]
    }
   ],
   "source": [
    "from tensorflow import keras\n",
    "from keras.preprocessing.text import Tokenizer\n",
    "import pandas as pd\n",
    "import numpy as np"
   ]
  },
  {
   "cell_type": "markdown",
   "metadata": {},
   "source": [
    "# 数据预处理"
   ]
  },
  {
   "cell_type": "markdown",
   "metadata": {},
   "source": [
    "## panda数据读取"
   ]
  },
  {
   "cell_type": "code",
   "execution_count": 3,
   "metadata": {},
   "outputs": [],
   "source": [
    "train_data=pd.read_csv(\"/home/xm/jupyterwork/univeral-sentence-encoder/ag_news_csv/train.csv\",header=None,usecols=[1,2])\n",
    "train_labels=pd.read_csv(\"/home/xm/jupyterwork/univeral-sentence-encoder/ag_news_csv/train.csv\",header=None,usecols=[0])\n",
    "test_data=pd.read_csv(\"/home/xm/jupyterwork/univeral-sentence-encoder/ag_news_csv/test.csv\",header=None,usecols=[1,2])\n",
    "test_labels=pd.read_csv(\"/home/xm/jupyterwork/univeral-sentence-encoder/ag_news_csv/test.csv\",header=None,usecols=[0])"
   ]
  },
  {
   "cell_type": "markdown",
   "metadata": {},
   "source": [
    "## titlte+description"
   ]
  },
  {
   "cell_type": "code",
   "execution_count": 4,
   "metadata": {},
   "outputs": [],
   "source": [
    "#array\n",
    "train_data=train_data.values\n",
    "y_train=train_labels.values\n",
    "test_data=test_data.values\n",
    "y_test=test_labels.values\n",
    "\n",
    "train_messages = [None]*120000\n",
    "test_messages = [None]*7600\n",
    "\n",
    "for index, data in enumerate(train_data):\n",
    "    train_messages[index] = data[0]+'.'+data[1]\n",
    "for index, data in enumerate(test_data):\n",
    "    test_messages[index] = data[0]+'.'+data[1]\n",
    "    \n",
    "for index,data in enumerate(y_train):\n",
    "    y_train[index][0]=data[0]-1\n",
    "for index,data in enumerate(y_test):\n",
    "    y_test[index][0]=data[0]-1\n",
    "    "
   ]
  },
  {
   "cell_type": "markdown",
   "metadata": {},
   "source": [
    "## tokenizer词典 "
   ]
  },
  {
   "cell_type": "code",
   "execution_count": 5,
   "metadata": {},
   "outputs": [],
   "source": [
    "tokenizer=keras.preprocessing.text.Tokenizer(filters='!\"#$%&()*+,-./:;<=>?@[\\]^_`{|}~', \n",
    "                                   lower=True, split=' ', \n",
    "                                   char_level=False, \n",
    "                                   oov_token=None)\n",
    "tokenizer.fit_on_texts(train_messages)#词典"
   ]
  },
  {
   "cell_type": "code",
   "execution_count": 6,
   "metadata": {},
   "outputs": [],
   "source": [
    "#print( 'word_counts:',tokenizer.word_counts) #单词出现次数\n",
    "#print( '\\nword_index:',tokenizer.word_index) #单词出现的位置\n",
    "#print( '\\nword_docs:',tokenizer.word_docs) #单词出现在的文档（行）数\n",
    "#print( '\\nindex_docs',tokenizer.index_docs) #word_index：word_docs"
   ]
  },
  {
   "cell_type": "code",
   "execution_count": 7,
   "metadata": {},
   "outputs": [
    {
     "name": "stdout",
     "output_type": "stream",
     "text": [
      "181\n",
      "70344\n"
     ]
    }
   ],
   "source": [
    "train_sequences = tokenizer.texts_to_sequences(train_messages)\n",
    "test_sequences = tokenizer.texts_to_sequences(test_messages)\n",
    "maxlen=0\n",
    "max_index=0\n",
    "for i, seq in enumerate(train_sequences):\n",
    "    if len(seq)>maxlen:\n",
    "        maxlen=len(seq)\n",
    "    if max(seq)>max_index:\n",
    "        max_index=max(seq)\n",
    "print(maxlen)\n",
    "print(max_index)"
   ]
  },
  {
   "cell_type": "code",
   "execution_count": 8,
   "metadata": {},
   "outputs": [
    {
     "data": {
      "text/plain": [
       "array([[    0,     0,     0, ...,  4049,   797,   332],\n",
       "       [    0,     0,     0, ...,     4,     1,   128],\n",
       "       [    0,     0,     0, ...,     1,  1214, 14993],\n",
       "       ...,\n",
       "       [    0,     0,     0, ...,   346,    65,   123],\n",
       "       [    0,     0,     0, ...,    42,    16,  1666],\n",
       "       [    0,     0,     0, ...,  2095,  3435,    72]], dtype=int32)"
      ]
     },
     "execution_count": 8,
     "metadata": {},
     "output_type": "execute_result"
    }
   ],
   "source": [
    "train_x = keras.preprocessing.sequence.pad_sequences(train_sequences, maxlen)\n",
    "test_x = keras.preprocessing.sequence.pad_sequences(test_sequences, maxlen)\n",
    "y_train_labels = keras.utils.to_categorical(y_train,num_classes=4)\n",
    "y_test_labels = keras.utils.to_categorical(y_test,num_classes=4)\n",
    "train_x\n",
    "#print( tokenizer.texts_to_matrix(test_messages))  # 矩阵化=one_hot"
   ]
  },
  {
   "cell_type": "markdown",
   "metadata": {},
   "source": [
    "# GloVe词向量"
   ]
  },
  {
   "cell_type": "code",
   "execution_count": 9,
   "metadata": {},
   "outputs": [
    {
     "name": "stdout",
     "output_type": "stream",
     "text": [
      "Loaded 2196017 word vectors.\n"
     ]
    }
   ],
   "source": [
    "# load the whole embedding into memory\n",
    "embeddings_index = dict()\n",
    "f = open('/home/zzx/data_en/glove.840B.300d.txt')\n",
    "for line in f:\n",
    "    values = line.split()\n",
    "    word = values[0]\n",
    "    coefs = np.asarray(values[1:], dtype='float32')\n",
    "    embeddings_index[word] = coefs\n",
    "f.close()\n",
    "print('Loaded %s word vectors.' % len(embeddings_index))"
   ]
  },
  {
   "cell_type": "code",
   "execution_count": 10,
   "metadata": {},
   "outputs": [],
   "source": [
    "from numpy import zeros\n",
    "# create a weight matrix for words in training docs\n",
    "vocab_size=70345\n",
    "embedding_matrix = zeros((vocab_size, 300))\n",
    "for word, i in tokenizer.word_index.items():\n",
    "    embedding_vector = embeddings_index.get(word)\n",
    "    if embedding_vector is not None:\n",
    "        embedding_matrix[i] = embedding_vector"
   ]
  },
  {
   "cell_type": "markdown",
   "metadata": {},
   "source": [
    "# basic cnn model"
   ]
  },
  {
   "cell_type": "code",
   "execution_count": 11,
   "metadata": {},
   "outputs": [],
   "source": [
    "def base_cnn_model(y,vocab_size,embedding_dims,filters):\n",
    "    kernel_size = 3\n",
    "    model = keras.Sequential()\n",
    "    model.add(keras.layers.Embedding(vocab_size, 300, weights=[embedding_matrix],trainable=False)) # 使用Embedding层将每个词编码转换为词向量(10000,181,128)\n",
    "    model.add(keras.layers.Conv1D(filters,\n",
    "                     kernel_size,\n",
    "                     padding='valid',\n",
    "                     activation='relu',\n",
    "                     strides=1))\n",
    "    # 池化\n",
    "    model.add(keras.layers.GlobalMaxPooling1D())\n",
    "    model.add(keras.layers.Dropout(0.5))\n",
    "    model.add(keras.layers.Dense(y.shape[1], activation='softmax')) #第一个参数units: 全连接层输出的维度，即下一层神经元的个数。\n",
    "    model.compile(loss='categorical_crossentropy',\n",
    "                  optimizer='adam',\n",
    "                  metrics=['accuracy'])\n",
    "\n",
    "    model.summary()\n",
    "\n",
    "    return model"
   ]
  },
  {
   "cell_type": "code",
   "execution_count": 12,
   "metadata": {},
   "outputs": [
    {
     "name": "stdout",
     "output_type": "stream",
     "text": [
      "_________________________________________________________________\n",
      "Layer (type)                 Output Shape              Param #   \n",
      "=================================================================\n",
      "embedding_1 (Embedding)      (None, None, 300)         21103500  \n",
      "_________________________________________________________________\n",
      "conv1d_1 (Conv1D)            (None, None, 32)          28832     \n",
      "_________________________________________________________________\n",
      "global_max_pooling1d_1 (Glob (None, 32)                0         \n",
      "_________________________________________________________________\n",
      "dropout_1 (Dropout)          (None, 32)                0         \n",
      "_________________________________________________________________\n",
      "dense_1 (Dense)              (None, 4)                 132       \n",
      "=================================================================\n",
      "Total params: 21,132,464\n",
      "Trainable params: 28,964\n",
      "Non-trainable params: 21,103,500\n",
      "_________________________________________________________________\n"
     ]
    }
   ],
   "source": [
    "#max_features=70344\n",
    "embedding_dims=300\n",
    "filters=32\n",
    "#y_train=np_utils.to_categorical(4)\n",
    "model=base_cnn_model(y_train_labels,vocab_size,embedding_dims,filters)"
   ]
  },
  {
   "cell_type": "code",
   "execution_count": 13,
   "metadata": {},
   "outputs": [
    {
     "name": "stdout",
     "output_type": "stream",
     "text": [
      "Train on 96000 samples, validate on 24000 samples\n",
      "Epoch 1/10\n",
      "96000/96000 [==============================] - 60s 620us/step - loss: 0.4929 - acc: 0.8356 - val_loss: 0.3142 - val_acc: 0.8968\n",
      "Epoch 2/10\n",
      "96000/96000 [==============================] - 59s 619us/step - loss: 0.3916 - acc: 0.8753 - val_loss: 0.2968 - val_acc: 0.9002\n",
      "Epoch 3/10\n",
      "96000/96000 [==============================] - 58s 609us/step - loss: 0.3702 - acc: 0.8807 - val_loss: 0.2977 - val_acc: 0.9022\n",
      "Epoch 4/10\n",
      "96000/96000 [==============================] - 60s 624us/step - loss: 0.3585 - acc: 0.8836 - val_loss: 0.2908 - val_acc: 0.9023\n",
      "Epoch 5/10\n",
      "96000/96000 [==============================] - 59s 615us/step - loss: 0.3503 - acc: 0.8863 - val_loss: 0.2921 - val_acc: 0.9016\n",
      "Epoch 6/10\n",
      "96000/96000 [==============================] - 60s 624us/step - loss: 0.3455 - acc: 0.8877 - val_loss: 0.2866 - val_acc: 0.9045\n",
      "Epoch 7/10\n",
      "96000/96000 [==============================] - 60s 623us/step - loss: 0.3390 - acc: 0.8900 - val_loss: 0.2930 - val_acc: 0.9036\n",
      "Epoch 8/10\n",
      "96000/96000 [==============================] - 60s 624us/step - loss: 0.3314 - acc: 0.8916 - val_loss: 0.2893 - val_acc: 0.9054\n",
      "Epoch 9/10\n",
      "96000/96000 [==============================] - 59s 616us/step - loss: 0.3277 - acc: 0.8924 - val_loss: 0.2899 - val_acc: 0.9034\n",
      "Epoch 10/10\n",
      "96000/96000 [==============================] - 59s 617us/step - loss: 0.3272 - acc: 0.8926 - val_loss: 0.2872 - val_acc: 0.9037\n"
     ]
    }
   ],
   "source": [
    "history = model.fit(train_x,\n",
    "                    y_train_labels,\n",
    "                    validation_split=0.2,\n",
    "                    batch_size=64,\n",
    "                    epochs=10,\n",
    "                    verbose=1,\n",
    "                    shuffle=True)"
   ]
  },
  {
   "cell_type": "code",
   "execution_count": 14,
   "metadata": {},
   "outputs": [
    {
     "name": "stdout",
     "output_type": "stream",
     "text": [
      "7600/7600 [==============================] - 2s 270us/step\n",
      "[0.2970519308824288, 0.9064473684210527]\n"
     ]
    }
   ],
   "source": [
    "results = model.evaluate(test_x, y_test_labels)\n",
    "print(results)"
   ]
  },
  {
   "cell_type": "code",
   "execution_count": null,
   "metadata": {},
   "outputs": [],
   "source": [
    "\n"
   ]
  }
 ],
 "metadata": {
  "kernelspec": {
   "display_name": "Python 3",
   "language": "python",
   "name": "python3"
  },
  "language_info": {
   "codemirror_mode": {
    "name": "ipython",
    "version": 2
   },
   "file_extension": ".py",
   "mimetype": "text/x-python",
   "name": "python",
   "nbconvert_exporter": "python",
   "pygments_lexer": "ipython2",
   "version": "2.7.12"
  }
 },
 "nbformat": 4,
 "nbformat_minor": 2
}
